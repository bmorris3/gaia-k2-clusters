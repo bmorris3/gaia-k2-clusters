{
 "cells": [
  {
   "cell_type": "code",
   "execution_count": 4,
   "metadata": {},
   "outputs": [
    {
     "name": "stderr",
     "output_type": "stream",
     "text": [
      "WARNING:root:PyMultiNest not imported.  MultiNest fits will not work.\n"
     ]
    }
   ],
   "source": [
    "import warnings, os\n",
    "warnings.filterwarnings('ignore')\n",
    "\n",
    "%config InlineBackend.figure_format = 'retina'\n",
    "%matplotlib inline\n",
    "\n",
    "import matplotlib.pyplot as plt\n",
    "from matplotlib import colors, patches\n",
    "import pandas as pd\n",
    "import numpy as np\n",
    "# import palettable\n",
    "\n",
    "from astropy.table import Table\n",
    "import astropy.units as u\n",
    "import astropy.coordinates as coords\n",
    "\n",
    "from tap import GaiaArchive\n",
    "plt.rc(\"figure\", dpi=120)"
   ]
  },
  {
   "cell_type": "code",
   "execution_count": 9,
   "metadata": {
    "collapsed": true
   },
   "outputs": [],
   "source": [
    "gaia = GaiaArchive()"
   ]
  },
  {
   "cell_type": "markdown",
   "metadata": {},
   "source": [
    "# Functions on Gaia DataFrame"
   ]
  },
  {
   "cell_type": "code",
   "execution_count": 13,
   "metadata": {
    "collapsed": true
   },
   "outputs": [],
   "source": [
    "def make_icrs(df):\n",
    "    \"\"\"Make astropy coordinates from gaia_source DataFrame\"\"\"\n",
    "    return coords.SkyCoord(\n",
    "            ra=df.ra.values*u.deg,        \n",
    "            dec=df.dec.values*u.deg,\n",
    "            distance=1000./df.parallax.values*u.pc,\n",
    "            pm_ra_cosdec=df.pmra.values*u.mas/u.year,\n",
    "            pm_dec=df.pmdec.values*u.mas/u.year,\n",
    "            radial_velocity=df.radial_velocity.values*u.km/u.s)"
   ]
  },
  {
   "cell_type": "code",
   "execution_count": 14,
   "metadata": {
    "collapsed": true
   },
   "outputs": [],
   "source": [
    "def add_xv(df, frame, unit=u.pc):\n",
    "    \"\"\"\n",
    "    Add cartesian coordinates x, y, z, vx, vy, vz for a given `frame`\n",
    "    \n",
    "    df : pd.DataFrame\n",
    "        Gaia DR2 data\n",
    "    frame : astropy coordinate frame\n",
    "        Frame to calculate coordinates in\n",
    "    \n",
    "    Returns df with x, y, z, vx, vy, vz columns added.\n",
    "    \"\"\"\n",
    "    df = df.copy()\n",
    "    c = make_icrs(df).transform_to(frame)\n",
    "    df['x'], df['y'], df['z'] = c.cartesian.xyz.to(u.pc).value\n",
    "    df['vx'], df['vy'], df['vz'] = c.velocity.d_xyz.value\n",
    "    return df"
   ]
  },
  {
   "cell_type": "code",
   "execution_count": 15,
   "metadata": {
    "collapsed": true
   },
   "outputs": [],
   "source": [
    "def extract_a_g_error(df):\n",
    "    \"\"\"\n",
    "    Extract lerr and uerr of a_g from percentiles.\n",
    "    Returns df with a_g_lerr, a_g_uerr columns added.\n",
    "    \"\"\"\n",
    "    df = df.copy()\n",
    "    lerr = df['a_g_val'] - df['a_g_percentile_lower']\n",
    "    uerr = df['a_g_percentile_upper'] - df['a_g_val']\n",
    "    df['a_g_lerr'], df['a_g_uerr'] = lerr, uerr\n",
    "    return df"
   ]
  },
  {
   "cell_type": "code",
   "execution_count": 16,
   "metadata": {
    "collapsed": true
   },
   "outputs": [],
   "source": [
    "def add_gMag(df):\n",
    "    df = df.copy()\n",
    "    df['gMag'] = df['phot_g_mean_mag'] + 5*np.log10(df['parallax']) - 10\n",
    "    return df"
   ]
  },
  {
   "cell_type": "code",
   "execution_count": 17,
   "metadata": {
    "collapsed": true
   },
   "outputs": [],
   "source": [
    "def flag_good_phot(df):\n",
    "    df = df.copy()\n",
    "    good_phot = ((df.phot_bp_rp_excess_factor > 1+0.015*df.bp_rp**2) & (df.phot_bp_rp_excess_factor < 1.3+0.06*df.bp_rp**2))\n",
    "    df['good_phot'] = good_phot\n",
    "    return df"
   ]
  },
  {
   "cell_type": "code",
   "execution_count": null,
   "metadata": {
    "collapsed": true
   },
   "outputs": [],
   "source": [
    "def flag_excess(df):\n",
    "    df = df.copy()\n",
    "    ee = np.zeros(len(df)).astype(bool)\n",
    "    ee[(df.bp_rp>1.8)\\\n",
    "       & ((df.bp_rp-1.8)*0.65<df.astrometric_excess_noise)\\\n",
    "       &(df.astrometric_excess_noise_sig>3)] = True\n",
    "    ee[(df.bp_rp<1.8) \\\n",
    "       & (df.astrometric_excess_noise>0)\\\n",
    "       & (df.astrometric_excess_noise_sig>3)] = True\n",
    "    df['excess_excess'] = ee\n",
    "    return df"
   ]
  },
  {
   "cell_type": "code",
   "execution_count": 20,
   "metadata": {
    "collapsed": true
   },
   "outputs": [],
   "source": [
    "def table_to_pandas(t):\n",
    "    \"\"\"Convert astropy table to pandas dataframe.\n",
    "    When source_id is converted to float, significant digits are lost, which\n",
    "    result in duplicated source_id which is actually unique. To prevent this,\n",
    "    when the column dtype is int and there is no missing values, keep dtype int\n",
    "    instead of converting to nan.\n",
    "    NOTE: This conversion happens in the first place because np.nan is not supported for int types.\n",
    "    \"\"\"\n",
    "    from collections import OrderedDict\n",
    "    out = OrderedDict()\n",
    "    for name, column in t.columns.items():\n",
    "        if column.dtype.kind in ['i', 'u']:\n",
    "            if column.mask.sum() == 0:\n",
    "                out[name] = column.astype(int)\n",
    "            else:\n",
    "                out[name] = column.astype(float).filled(np.nan)\n",
    "        elif column.dtype.kind in ['f', 'c']:\n",
    "            out[name] = column.filled(np.nan)\n",
    "        else:\n",
    "            out[name] = column.astype(object).filled(np.nan)\n",
    "\n",
    "\n",
    "        if out[name].dtype.byteorder not in ('=', '|'):\n",
    "            out[name] = out[name].byteswap().newbyteorder()\n",
    "\n",
    "    return pd.DataFrame(out)"
   ]
  },
  {
   "cell_type": "code",
   "execution_count": 1,
   "metadata": {
    "collapsed": true
   },
   "outputs": [],
   "source": [
    "def cached(cachefile):\n",
    "    \"\"\"\n",
    "    A simple cache decorator that saves return value of the function to `cachefile`.\n",
    "    If the file exists, the function does not run and reads output from the cached file.\n",
    "    \"\"\"\n",
    "    import os\n",
    "    import pickle\n",
    "\n",
    "    def decorator(fn):  # define a decorator for a function \"fn\"\n",
    "        def wrapped(*args, **kwargs):   # define a wrapper that will finally call \"fn\" with all arguments            \n",
    "            # if cache exists -> load it and return its content\n",
    "            if os.path.exists(cachefile):\n",
    "                    with open(cachefile, 'rb') as cachehandle:\n",
    "                        print(\"using cached result from '%s'\" % cachefile)\n",
    "                        return pickle.load(cachehandle)\n",
    "\n",
    "            # execute the function with all arguments passed\n",
    "            res = fn(*args, **kwargs)\n",
    "\n",
    "            # write to cache file\n",
    "            with open(cachefile, 'wb') as cachehandle:\n",
    "                print(\"saving result to cache '%s'\" % cachefile)\n",
    "                pickle.dump(res, cachehandle)\n",
    "\n",
    "            return res\n",
    "\n",
    "        return wrapped\n",
    "\n",
    "    return decorator   # return this \"customized\" decorator that uses \"cachefile\""
   ]
  }
 ],
 "metadata": {
  "kernelspec": {
   "display_name": "Python 3",
   "language": "python",
   "name": "python3"
  },
  "language_info": {
   "codemirror_mode": {
    "name": "ipython",
    "version": 3
   },
   "file_extension": ".py",
   "mimetype": "text/x-python",
   "name": "python",
   "nbconvert_exporter": "python",
   "pygments_lexer": "ipython3",
   "version": "3.6.2"
  },
  "toc": {
   "colors": {
    "hover_highlight": "#DAA520",
    "running_highlight": "#FF0000",
    "selected_highlight": "#FFD700"
   },
   "moveMenuLeft": true,
   "nav_menu": {
    "height": "12px",
    "width": "252px"
   },
   "navigate_menu": true,
   "number_sections": true,
   "sideBar": true,
   "threshold": 4,
   "toc_cell": false,
   "toc_position": {
    "height": "751px",
    "left": "0px",
    "right": "1228px",
    "top": "66px",
    "width": "212px"
   },
   "toc_section_display": "block",
   "toc_window_display": true
  }
 },
 "nbformat": 4,
 "nbformat_minor": 2
}
